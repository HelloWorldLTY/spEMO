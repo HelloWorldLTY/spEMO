{
 "cells": [
  {
   "cell_type": "markdown",
   "id": "a2e2fdca",
   "metadata": {},
   "source": [
    "# 112 feature"
   ]
  },
  {
   "cell_type": "code",
   "execution_count": null,
   "id": "60caad67",
   "metadata": {},
   "outputs": [],
   "source": [
    "import numpy as np\n",
    "import scanpy as sc\n",
    "import anndata as ad\n",
    "import multimil as mtm\n",
    "import numpy as np\n",
    "import scanpy as sc\n",
    "import scvi\n",
    "import warnings\n",
    "\n",
    "warnings.filterwarnings(\"ignore\")"
   ]
  },
  {
   "cell_type": "code",
   "execution_count": 3,
   "id": "fd7d93ff",
   "metadata": {},
   "outputs": [],
   "source": [
    "import datasets\n",
    "import pandas as pd\n",
    "\n",
    "meta_df = pd.read_csv(\"../hest_data/HEST_v1_1_0.csv\", index_col=0)"
   ]
  },
  {
   "cell_type": "code",
   "execution_count": 5,
   "id": "b76154d2",
   "metadata": {},
   "outputs": [],
   "source": [
    "meta_df_t = meta_df[meta_df['st_technology'] == 'Visium']\n",
    "meta_df_t = meta_df_t[meta_df_t['species'] == 'Homo sapiens']"
   ]
  },
  {
   "cell_type": "code",
   "execution_count": null,
   "id": "0214d114",
   "metadata": {},
   "outputs": [],
   "source": [
    "meta_df_t['disease_state'].value_counts()"
   ]
  },
  {
   "cell_type": "code",
   "execution_count": 7,
   "id": "4e3ef933",
   "metadata": {},
   "outputs": [],
   "source": [
    "meta_df_t['disease_state'] = [str(i) for i in meta_df_t['disease_state'].values]\n",
    "meta_df_t['oncotree_code'] = [str(i) for i in meta_df_t['oncotree_code'].values]"
   ]
  },
  {
   "cell_type": "code",
   "execution_count": 8,
   "id": "0a42fc23",
   "metadata": {},
   "outputs": [],
   "source": [
    "disease_update = []\n",
    "for i in meta_df_t.index:\n",
    "    if meta_df_t.loc[i]['oncotree_code'] != 'nan':\n",
    "        disease_update.append(meta_df_t.loc[i]['oncotree_code'])\n",
    "    else:\n",
    "        disease_update.append(meta_df_t.loc[i]['disease_state'])"
   ]
  },
  {
   "cell_type": "code",
   "execution_count": 9,
   "id": "ddaf3c76",
   "metadata": {
    "scrolled": true
   },
   "outputs": [],
   "source": [
    "meta_df_t['disease_update'] = disease_update "
   ]
  },
  {
   "cell_type": "code",
   "execution_count": null,
   "id": "511bd935",
   "metadata": {
    "scrolled": true
   },
   "outputs": [],
   "source": [
    "set(meta_df_t['disease_update'] )"
   ]
  },
  {
   "cell_type": "code",
   "execution_count": 11,
   "id": "3c0ff216",
   "metadata": {
    "scrolled": true
   },
   "outputs": [],
   "source": [
    "meta_df_t.index = [i for i in range(len(meta_df_t))]"
   ]
  },
  {
   "cell_type": "code",
   "execution_count": 12,
   "id": "0423b069",
   "metadata": {
    "scrolled": true
   },
   "outputs": [],
   "source": [
    "meta_df_t_update = meta_df_t[meta_df_t['disease_update'].isin(['ACYC',\n",
    " 'BLCA',\n",
    " 'CESC',\n",
    " 'COAD',\n",
    " 'COADREAD',\n",
    " 'EPM',\n",
    " 'GBM',\n",
    " 'HCC',\n",
    " 'HGSOC',\n",
    " 'Healthy',\n",
    " 'IDC',\n",
    " 'ILC',\n",
    " 'LNET',\n",
    " 'LUSC',\n",
    " 'PAAD',\n",
    " 'PRAD',\n",
    " 'READ',\n",
    " 'SCCRCC',\n",
    " 'SOC',])]"
   ]
  },
  {
   "cell_type": "code",
   "execution_count": null,
   "id": "98b68c7f",
   "metadata": {},
   "outputs": [],
   "source": [
    "meta_df_t_update"
   ]
  },
  {
   "cell_type": "code",
   "execution_count": 14,
   "id": "1caccf44",
   "metadata": {},
   "outputs": [],
   "source": [
    "import torch"
   ]
  },
  {
   "cell_type": "code",
   "execution_count": 14,
   "id": "4d16c54c",
   "metadata": {},
   "outputs": [],
   "source": [
    "import pickle\n",
    "with open(\"./visium_gpfm_imagefeature.pickle\", \"rb\") as f:\n",
    "    input_data_visium = pickle.load(f)"
   ]
  },
  {
   "cell_type": "code",
   "execution_count": 15,
   "id": "4b515a03",
   "metadata": {},
   "outputs": [],
   "source": [
    "input_data_new = []\n",
    "for i in input_data_visium:\n",
    "    input_data_new.append(i.mean(axis=0).numpy())"
   ]
  },
  {
   "cell_type": "code",
   "execution_count": 16,
   "id": "984e1e1b",
   "metadata": {},
   "outputs": [],
   "source": [
    "del input_data_visium"
   ]
  },
  {
   "cell_type": "code",
   "execution_count": 17,
   "id": "b043f896",
   "metadata": {},
   "outputs": [],
   "source": [
    "input_data_new = np.array(input_data_new)"
   ]
  },
  {
   "cell_type": "code",
   "execution_count": null,
   "id": "553150f3",
   "metadata": {},
   "outputs": [],
   "source": [
    "input_data_new.shape"
   ]
  },
  {
   "cell_type": "code",
   "execution_count": 19,
   "id": "87111ff3",
   "metadata": {},
   "outputs": [],
   "source": [
    "adata = sc.read_h5ad(\"./visium_all.h5ad\")"
   ]
  },
  {
   "cell_type": "code",
   "execution_count": 20,
   "id": "2b67f007",
   "metadata": {},
   "outputs": [],
   "source": [
    "pseudo_list = []\n",
    "for i in adata.obs['batch'].unique():\n",
    "    pseudo_list.append(adata[adata.obs['batch'] == i].X.mean(axis=0))"
   ]
  },
  {
   "cell_type": "code",
   "execution_count": 21,
   "id": "8b0699ff",
   "metadata": {},
   "outputs": [],
   "source": [
    "train_data = np.array(pseudo_list)[:,0,:]"
   ]
  },
  {
   "cell_type": "code",
   "execution_count": 22,
   "id": "2199938f",
   "metadata": {},
   "outputs": [],
   "source": [
    "select_train_data = train_data[meta_df_t_update.index]"
   ]
  },
  {
   "cell_type": "code",
   "execution_count": 23,
   "id": "3eff796f",
   "metadata": {},
   "outputs": [],
   "source": [
    "import sklearn.linear_model"
   ]
  },
  {
   "cell_type": "code",
   "execution_count": 24,
   "id": "6667ece1",
   "metadata": {},
   "outputs": [],
   "source": [
    "import xgboost"
   ]
  },
  {
   "cell_type": "code",
   "execution_count": 26,
   "id": "40ea2150",
   "metadata": {},
   "outputs": [],
   "source": [
    "import numpy as np\n",
    "from sklearn.model_selection import KFold\n",
    "result_list_new = []\n",
    "X = meta_df_t_update.index\n"
   ]
  },
  {
   "cell_type": "code",
   "execution_count": 27,
   "id": "de31a197",
   "metadata": {},
   "outputs": [],
   "source": [
    "import sklearn.linear_model"
   ]
  },
  {
   "cell_type": "code",
   "execution_count": null,
   "id": "e8a10c79",
   "metadata": {},
   "outputs": [],
   "source": [
    "result_list_new = []\n",
    "kf = KFold(n_splits=3, shuffle=True, random_state=2024)\n",
    "for train, test in kf.split(X):\n",
    "    train_batch = X[train]\n",
    "    train_label = meta_df_t_update.loc[train_batch]['disease_update'].values\n",
    "\n",
    "\n",
    "    model = sklearn.linear_model.LogisticRegression(n_jobs=-1)\n",
    "    model.fit(np.concatenate((train_data[train_batch], input_data_new[train_batch]), axis=1), train_label)\n",
    "    \n",
    "    test_batch = X[test]\n",
    "    test_label = meta_df_t_update.loc[test_batch]['disease_update'].values\n",
    "    \n",
    "    pred = model.predict(np.concatenate((train_data[test_batch], input_data_new[test_batch]), axis=1))\n",
    "    \n",
    "    dict_out = sklearn.metrics.classification_report(test_label,pred,digits=4, output_dict=True)\n",
    "    single_out = [dict_out['accuracy'], dict_out['weighted avg']['precision'] , dict_out['weighted avg']['recall'] , dict_out['weighted avg']['f1-score']]\n",
    "    result_list_new.append(single_out)"
   ]
  },
  {
   "cell_type": "code",
   "execution_count": null,
   "id": "0675542e",
   "metadata": {},
   "outputs": [],
   "source": [
    "for i in result_list_new:\n",
    "    print(i[0], ' ', i[1], ' ', i[2], ' ', i[3])"
   ]
  },
  {
   "cell_type": "code",
   "execution_count": null,
   "id": "00ef3dbd",
   "metadata": {},
   "outputs": [],
   "source": [
    "# If you want trying oversampling, please consider:\n",
    "from collections import Counter\n",
    "from sklearn.datasets import make_classification\n",
    "from imblearn.over_sampling import RandomOverSampler\n",
    "\n",
    "result_list_new = []\n",
    "kf = KFold(n_splits=3, shuffle=True, random_state=2024)\n",
    "for train, test in kf.split(X):\n",
    "    train_batch = X[train]\n",
    "    train_label = meta_df_t_update.loc[train_batch]['disease_update'].values\n",
    "\n",
    "    model = sklearn.linear_model.LogisticRegression(n_jobs=-1, max_iter=1000)\n",
    "    \n",
    "    ros = RandomOverSampler(random_state=42)\n",
    "    \n",
    "    X_train, y_train = ros.fit_resample(np.concatenate((train_data[train_batch], input_data_new[train_batch]), axis=1), train_label)\n",
    "    \n",
    "    model.fit(X_train, y_train)\n",
    "    \n",
    "    test_batch = X[test]\n",
    "    test_label = meta_df_t_update.loc[test_batch]['disease_update'].values\n",
    "    \n",
    "    pred = model.predict(np.concatenate((train_data[test_batch], input_data_new[test_batch]), axis=1))\n",
    "    \n",
    "    dict_out = sklearn.metrics.classification_report(test_label,pred,digits=4, output_dict=True)\n",
    "    single_out = [dict_out['accuracy'], dict_out['weighted avg']['precision'] , dict_out['weighted avg']['recall'] , dict_out['weighted avg']['f1-score']]\n",
    "    result_list_new.append(single_out)"
   ]
  },
  {
   "cell_type": "code",
   "execution_count": null,
   "id": "1c49b32c",
   "metadata": {},
   "outputs": [],
   "source": [
    "#oversample plus cv\n",
    "for i in result_list_new:\n",
    "    print(i[0], ' ', i[1], ' ', i[2], ' ', i[3])"
   ]
  },
  {
   "cell_type": "code",
   "execution_count": null,
   "id": "5e6dda64",
   "metadata": {},
   "outputs": [],
   "source": []
  },
  {
   "cell_type": "code",
   "execution_count": 31,
   "id": "694aad75",
   "metadata": {},
   "outputs": [],
   "source": [
    "import sklearn.ensemble"
   ]
  },
  {
   "cell_type": "code",
   "execution_count": null,
   "id": "5ad7bfee",
   "metadata": {},
   "outputs": [],
   "source": [
    "a = 1"
   ]
  },
  {
   "cell_type": "code",
   "execution_count": 46,
   "id": "0aa048a5",
   "metadata": {},
   "outputs": [],
   "source": [
    "def get_batch_id(data, sample_id):\n",
    "    data_select = data[data['dataset_title'].isin(sample_id)]\n",
    "    return data_select.index"
   ]
  },
  {
   "cell_type": "code",
   "execution_count": 47,
   "id": "32d60daf",
   "metadata": {},
   "outputs": [],
   "source": [
    "import numpy as np\n",
    "from sklearn.model_selection import KFold\n",
    "result_list_new = []\n",
    "X = meta_df_t_update['dataset_title'].unique()"
   ]
  },
  {
   "cell_type": "code",
   "execution_count": 48,
   "id": "ffffaf73",
   "metadata": {},
   "outputs": [],
   "source": [
    "select_train_data_new = np.array(pseudo_list)[:,0,:]"
   ]
  },
  {
   "cell_type": "code",
   "execution_count": null,
   "id": "c5e1ed35",
   "metadata": {},
   "outputs": [],
   "source": [
    "select_train_data_new.shape"
   ]
  },
  {
   "cell_type": "code",
   "execution_count": 51,
   "id": "58af6211",
   "metadata": {},
   "outputs": [],
   "source": [
    "result_list_new = []\n",
    "kf = KFold(n_splits=3, shuffle=True, random_state=2024)\n",
    "for train, test in kf.split(X):\n",
    "    train_data = X[train]\n",
    "    train_index = get_batch_id(meta_df_t_update, train_data)\n",
    "    train_label = meta_df_t_update.loc[train_index]['disease_update'].values\n",
    "    \n",
    "    enc = sklearn.preprocessing.LabelEncoder()\n",
    "    train_label = enc.fit_transform(train_label)\n",
    "\n",
    "    test_data = X[test]\n",
    "    test_index = get_batch_id(meta_df_t_update, test_data)\n",
    "    test_label = meta_df_t_update.loc[test_index]['disease_update'].values\n",
    "    \n",
    "    train_batch = train_index\n",
    "    test_batch = test_index\n",
    "    \n",
    "    model = sklearn.linear_model.LogisticRegression(n_jobs=-1)\n",
    "    \n",
    "    model.fit(np.concatenate((select_train_data_new[train_batch], input_data_new[train_batch]), axis=1), train_label)\n",
    "    \n",
    "    pred = model.predict(np.concatenate((select_train_data_new[test_batch], input_data_new[test_batch]), axis=1))\n",
    "    pred = enc.inverse_transform(pred)\n",
    "    \n",
    "    dict_out = sklearn.metrics.classification_report(test_label,pred,digits=4, output_dict=True)\n",
    "    single_out = [dict_out['accuracy'], dict_out['weighted avg']['precision'] , dict_out['weighted avg']['recall'] , dict_out['weighted avg']['f1-score']]\n",
    "    result_list_new.append(single_out)"
   ]
  },
  {
   "cell_type": "code",
   "execution_count": null,
   "id": "afd4aeba",
   "metadata": {},
   "outputs": [],
   "source": [
    "for i in result_list_new:\n",
    "    print(i[0], ' ', i[1], ' ', i[2], ' ', i[3])"
   ]
  },
  {
   "cell_type": "code",
   "execution_count": null,
   "id": "b9bd2ce4",
   "metadata": {},
   "outputs": [],
   "source": []
  },
  {
   "cell_type": "code",
   "execution_count": null,
   "id": "17f2dc57",
   "metadata": {},
   "outputs": [],
   "source": []
  },
  {
   "cell_type": "code",
   "execution_count": null,
   "id": "770f3b08",
   "metadata": {},
   "outputs": [],
   "source": []
  }
 ],
 "metadata": {
  "kernelspec": {
   "display_name": "Python 3 (ipykernel)",
   "language": "python",
   "name": "python3"
  },
  "language_info": {
   "codemirror_mode": {
    "name": "ipython",
    "version": 3
   },
   "file_extension": ".py",
   "mimetype": "text/x-python",
   "name": "python",
   "nbconvert_exporter": "python",
   "pygments_lexer": "ipython3",
   "version": "3.11.0"
  }
 },
 "nbformat": 4,
 "nbformat_minor": 5
}
