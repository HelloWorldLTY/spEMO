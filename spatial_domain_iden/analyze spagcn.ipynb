{
 "cells": [
  {
   "cell_type": "code",
   "execution_count": 1,
   "id": "6f19cb0c",
   "metadata": {},
   "outputs": [],
   "source": [
    "import SpaGCN as spg\n",
    "\n",
    "# Please ensure that you use the SpaGCN under this path, which includes our modification for enhancement.\n",
    "\n",
    "import numpy as np\n",
    "from PIL import Image\n",
    "import requests\n",
    "from scipy.sparse import issparse\n",
    "import random, torch\n",
    "import warnings\n",
    "warnings.filterwarnings(\"ignore\")"
   ]
  },
  {
   "cell_type": "code",
   "execution_count": 2,
   "id": "a250f200",
   "metadata": {},
   "outputs": [],
   "source": [
    "import scanpy as sc\n",
    "import squidpy as sq"
   ]
  },
  {
   "cell_type": "markdown",
   "id": "adb45b33",
   "metadata": {},
   "source": [
    "## final choice"
   ]
  },
  {
   "cell_type": "code",
   "execution_count": 4,
   "id": "718ce88f",
   "metadata": {},
   "outputs": [],
   "source": [
    "import pickle"
   ]
  },
  {
   "cell_type": "code",
   "execution_count": null,
   "id": "a53c666e",
   "metadata": {
    "scrolled": true
   },
   "outputs": [],
   "source": [
    "label_dict = {}\n",
    "for idx in ['151507',\n",
    " '151508',\n",
    " '151509',\n",
    " '151510',\n",
    " '151669',\n",
    " '151670',\n",
    " '151671',\n",
    " '151672',\n",
    " '151673',\n",
    " '151674',\n",
    " '151675',\n",
    " '151676']:\n",
    "    adata = sc.read_h5ad(f\"../dplfc_data/{idx}_adata.h5ad\")\n",
    "    img = sq.im.ImageContainer(f\"../dplfc_data/{idx}_full_image.tif\")\n",
    "\n",
    "    x_array = adata.obs[\"array_row\"].tolist()\n",
    "    y_array = adata.obs[\"array_col\"].tolist()\n",
    "    x_pixel = (adata.obsm[\"spatial\"][:, 0]).tolist()\n",
    "    y_pixel = adata.obsm[\"spatial\"][:, 1].tolist()\n",
    "\n",
    "    img = np.array(img.data.image)\n",
    "\n",
    "    img = img[:,:,0,:]\n",
    "\n",
    "    # Calculate adjacent matrix\n",
    "    adj = spg.calculate_adj_matrix(\n",
    "        x=x_pixel,\n",
    "        y=y_pixel,\n",
    "        x_pixel=x_pixel,\n",
    "        y_pixel=y_pixel,\n",
    "        image=img,\n",
    "        beta=55,\n",
    "        alpha=1,\n",
    "        histology=True,\n",
    "        image_feature = f\"../GPFM/visium_{idx}_allspot_gpfm_112.pkl\"\n",
    "    )\n",
    "\n",
    "    adata.var_names_make_unique()\n",
    "\n",
    "    sc.pp.filter_genes(adata, min_cells=3)\n",
    "\n",
    "    # find mitochondrial (MT) genes\n",
    "    adata.var[\"MT_gene\"] = [gene.startswith(\"MT-\") for gene in adata.var_names]\n",
    "    # remove MT genes (keeping their counts in the object)\n",
    "    adata.obsm[\"MT\"] = adata[:, adata.var[\"MT_gene\"].values].X.toarray()\n",
    "    adata = adata[:, ~adata.var[\"MT_gene\"].values].copy()\n",
    "\n",
    "    # Normalize and take log for UMI\n",
    "    sc.pp.normalize_total(adata)\n",
    "    sc.pp.log1p(adata)\n",
    "\n",
    "    p=0.5 \n",
    "    #Find the l value given p\n",
    "    l=spg.search_l(p, adj, start=0.01, end=1000, tol=0.01, max_run=100)\n",
    "\n",
    "    n_clusters=7\n",
    "    #Set seed\n",
    "    r_seed=t_seed=n_seed=100\n",
    "    #Seaech for suitable resolution\n",
    "    res=spg.search_res(adata, adj, l, n_clusters, start=0.7, step=0.1, tol=5e-3, lr=0.05, max_epochs=20, r_seed=r_seed, t_seed=t_seed, n_seed=n_seed)\n",
    "\n",
    "    \n",
    "    random.seed(r_seed)\n",
    "    torch.manual_seed(t_seed)\n",
    "    np.random.seed(n_seed)\n",
    "    \n",
    "    model = spg.SpaGCN()\n",
    "    model.set_l(l)\n",
    "\n",
    "    model.train(adata, adj, res=res)\n",
    "\n",
    "    y_pred, prob = model.predict()\n",
    "\n",
    "    adj_2d=spg.calculate_adj_matrix(x=x_array,y=y_array, histology=False)\n",
    "    refined_pred=spg.refine(sample_id=adata.obs.index.tolist(), pred=y_pred, dis=adj_2d, shape=\"hexagon\")\n",
    "    label_dict[idx] = refined_pred\n"
   ]
  },
  {
   "cell_type": "code",
   "execution_count": 6,
   "id": "31064efc",
   "metadata": {},
   "outputs": [],
   "source": [
    "\n",
    "import pickle\n",
    "with open(\"./visium_spagcn_includegpfm_update_adj_multi.pkl\", \"wb\") as f:\n",
    "    pickle.dump(label_dict, f)\n"
   ]
  }
 ],
 "metadata": {
  "kernelspec": {
   "display_name": "Python 3 (ipykernel)",
   "language": "python",
   "name": "python3"
  },
  "language_info": {
   "codemirror_mode": {
    "name": "ipython",
    "version": 3
   },
   "file_extension": ".py",
   "mimetype": "text/x-python",
   "name": "python",
   "nbconvert_exporter": "python",
   "pygments_lexer": "ipython3",
   "version": "3.11.0"
  }
 },
 "nbformat": 4,
 "nbformat_minor": 5
}
