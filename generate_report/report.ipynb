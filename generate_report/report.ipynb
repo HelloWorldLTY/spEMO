{
 "cells": [
  {
   "cell_type": "code",
   "execution_count": null,
   "metadata": {
    "vscode": {
     "languageId": "plaintext"
    }
   },
   "outputs": [],
   "source": [
    "import base64\n",
    "import requests\n",
    "\n",
    "# OpenAI API Key\n",
    "api_key = \"fill your api\"\n",
    "\n",
    "# Function to encode the image\n",
    "def encode_image(image_path):\n",
    "  with open(image_path, \"rb\") as image_file:\n",
    "    return base64.b64encode(image_file.read()).decode('utf-8')\n",
    "\n",
    "# Path to your image\n",
    "image_path = \"./figure_dict/fig_test_1.png\"\n",
    "\n",
    "# Getting the base64 string\n",
    "base64_image = encode_image(image_path)\n",
    "\n",
    "headers = {\n",
    "  \"Content-Type\": \"application/json\",\n",
    "  \"Authorization\": f\"Bearer {api_key}\"\n",
    "}\n",
    "\n",
    "\n",
    "from IPython.display import display, Markdown, Latex\n"
   ]
  },
  {
   "cell_type": "code",
   "execution_count": null,
   "metadata": {
    "vscode": {
     "languageId": "plaintext"
    }
   },
   "outputs": [],
   "source": [
    "prompt_set = {'ACYC': 'This is a whole-slide image sample with disease ACYC and from tissue Lacrimal gland. The top 10 highly variable genes include: PIGO TBX18 EXO5 MGMT GPX2 PPP2R5E BAD CRAMP1 ZNF214 AL135905.2. Please generate a medical report based on the given information.',\n",
    " 'BLCA': 'This is a whole-slide image sample with disease BLCA and from tissue Bladder. The top 10 highly variable genes include: RNASE11 CBY1 CCNH FAM8A1 IGHJ2 SFRP4 PIAS4 MEIKIN ARV1 IGHG4. Please generate a medical report based on the given information.',\n",
    " 'CESC': 'This is a whole-slide image sample with disease CESC and from tissue Cervix. The top 10 highly variable genes include: IGHD IGHG4 PI3 SPRR2A IGLV3-1 SERPINB2 C11orf96 MMP9 SPRR2D GREM1. Please generate a medical report based on the given information.',\n",
    " 'COAD': 'This is a whole-slide image sample with disease COAD and from tissue Colon. The top 10 highly variable genes include: CXCL8 HBB IL1B CLCA4 GUCA2A TAC1 VIP SST CHGA HBA2. Please generate a medical report based on the given information.',\n",
    " 'COADREAD': 'This is a whole-slide image sample with disease COADREAD and from tissue Colorectal. The top 10 highly variable genes include: ACTG2 MAFG SPATA5L1 JDP2 DES MYH11 PARP10 UPF3B TWISTNB CNN1. Please generate a medical report based on the given information.',\n",
    " 'EPM': 'This is a whole-slide image sample with disease EPM and from tissue Brain. The top 10 highly variable genes include: RPP30 LTF IGKC HBA2 HBA1 GAL AC092375.2 HBB IGLC2 ULBP1. Please generate a medical report based on the given information.',\n",
    " 'GBM': 'This is a whole-slide image sample with disease GBM and from tissue Brain. The top 10 highly variable genes include: PRAMEF13 IGHG3 DGKH EXOSC3 PHF19 FAM219B ADGRB3 MED24 CSRNP3 IGLC1. Please generate a medical report based on the given information.',\n",
    " 'HCC': 'This is a whole-slide image sample with disease HCC and from tissue Liver. The top 10 highly variable genes include: IGHM IGLC1 IGHG1 HBB IGKC IGLC2 IGHA1 TAGLN COMP IGHG4. Please generate a medical report based on the given information.',\n",
    " 'HGSOC': 'This is a whole-slide image sample with disease HGSOC and from tissue Ovary. The top 10 highly variable genes include: BEND2 AARSD1 HBA2 HBB FST C11orf65 IGHG3 WRN TMTC2 FPR3. Please generate a medical report based on the given information.',\n",
    " 'IDC': 'This is a whole-slide image sample with disease IDC and from tissue Breast. The top 10 highly variable genes include: PLP1 SCGB1A1 IGHG3 SLC49A4 SRGAP3 ADAMTS15 IGHM ACAT2 KDM1B AIG1. Please generate a medical report based on the given information.',\n",
    " 'ILC': 'This is a whole-slide image sample with disease ILC and from tissue Breast. The top 10 highly variable genes include: IGKC IGHA1 IGHM MBD1 BOD1 HEIH AC010210.1 SLC12A5 PSMB9 SNCA. Please generate a medical report based on the given information.',\n",
    " 'LNET': 'This is a whole-slide image sample with disease LNET and from tissue Lung. The top 10 highly variable genes include: IGHA1 IGHG1 LYZ SPP1 PRB1 IGHD IGLC1 MMP9 SFTPA1 HBB. Please generate a medical report based on the given information.',\n",
    " 'LUSC': 'This is a whole-slide image sample with disease LUSC and from tissue Lung. The top 10 highly variable genes include: IGHM ATRIP PYDC1 TRPV5 REC114 PABPN1L SLC6A5 MUC7 CST9L TSKS. Please generate a medical report based on the given information.',\n",
    " 'PAAD': 'This is a whole-slide image sample with disease PAAD and from tissue Pancreas. The top 10 highly variable genes include: IGLC3 KNTC1 ARID3B TMC7 POLR3K IGHM KLC2 VASN RUNDC1 TIMM10. Please generate a medical report based on the given information.',\n",
    " 'PRAD': 'This is a whole-slide image sample with disease PRAD and from tissue Prostate. The top 10 highly variable genes include: IGHG4 IGLV9-49 IGLV6-57 SPP1 HBA2 IGHM FCGBP IGKV5-2 CHGB IGHJ2. Please generate a medical report based on the given information.',\n",
    " 'READ': 'This is a whole-slide image sample with disease READ and from tissue Rectum. The top 10 highly variable genes include: LINC01055 MAP3K2-DT THUMPD3 PXMP4 SAMD9L TESMIN CEP350 AC096751.2 SNRNP35 HSPA14. Please generate a medical report based on the given information.',\n",
    " 'SCCRCC': 'This is a whole-slide image sample with disease SCCRCC and from tissue Kidney. The top 10 highly variable genes include: ASL CST7 NARF TSPAN32 FLVCR2 NPHS1 APEH RAE1 TTYH2 FEM1C. Please generate a medical report based on the given information.',\n",
    " 'SOC': 'This is a whole-slide image sample with disease SOC and from tissue Ovary. The top 10 highly variable genes include: IGHD IGHG4 APLN IGHV1-46 IGLV3-1 SELE HBA2 HBA1 PLA2G2A CCL21. Please generate a medical report based on the given information.'}"
   ]
  },
  {
   "cell_type": "code",
   "execution_count": null,
   "metadata": {
    "vscode": {
     "languageId": "plaintext"
    }
   },
   "outputs": [],
   "source": [
    "out_dict = {}\n",
    "for disease in prompt_set.keys():\n",
    "    print(disease)\n",
    "    prompt = prompt_set[disease]\n",
    "    \n",
    "    # Path to your image\n",
    "    image_path = f\"./image_set/disease_{disease}.png\"\n",
    "\n",
    "    # Getting the base64 string\n",
    "    base64_image = encode_image(image_path)\n",
    "\n",
    "    headers = {\n",
    "      \"Content-Type\": \"application/json\",\n",
    "      \"Authorization\": f\"Bearer {api_key}\"\n",
    "    }\n",
    "    \n",
    "    payload = {\n",
    "      \"model\": \"gpt-4o\",\n",
    "      \"messages\": [\n",
    "        {\n",
    "          \"role\": \"user\",\n",
    "          \"content\": [\n",
    "            {\n",
    "              \"type\": \"text\",\n",
    "              \"text\": prompt\n",
    "            },\n",
    "            {\n",
    "              \"type\": \"image_url\",\n",
    "              \"image_url\": {\n",
    "                \"url\": f\"data:image/jpeg;base64,{base64_image}\"\n",
    "              }\n",
    "            }\n",
    "          ]\n",
    "        }\n",
    "      ],\n",
    "      \"seed\": 2024\n",
    "    }\n",
    "\n",
    "    response = requests.post(\"https://api.openai.com/v1/chat/completions\", headers=headers, json=payload)\n",
    "    output_file = response.json()['choices']\n",
    "    out_dict[disease] = output_file[0]['message']['content']"
   ]
  },
  {
   "cell_type": "code",
   "execution_count": null,
   "metadata": {
    "vscode": {
     "languageId": "plaintext"
    }
   },
   "outputs": [],
   "source": [
    "\n",
    "import pickle\n",
    "with open('./full_prompt_diseasereport.pickle', 'wb') as fp:\n",
    "    pickle.dump(out_dict, fp)"
   ]
  }
 ],
 "metadata": {
  "language_info": {
   "name": "python"
  }
 },
 "nbformat": 4,
 "nbformat_minor": 2
}
