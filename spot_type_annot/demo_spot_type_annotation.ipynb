{
 "cells": [
  {
   "cell_type": "code",
   "execution_count": 1,
   "id": "fc7b69c8",
   "metadata": {},
   "outputs": [],
   "source": [
    "import scanpy as sc\n",
    "import pandas as pd\n",
    "import numpy as np\n",
    "import sklearn"
   ]
  },
  {
   "cell_type": "code",
   "execution_count": 2,
   "id": "a250f200",
   "metadata": {},
   "outputs": [],
   "source": [
    "import scanpy as sc\n",
    "import squidpy as sq"
   ]
  },
  {
   "cell_type": "code",
   "execution_count": 1,
   "id": "e2d926cc",
   "metadata": {},
   "outputs": [],
   "source": [
    "import sklearn.ensemble\n",
    "import sklearn.linear_model"
   ]
  },
  {
   "cell_type": "code",
   "execution_count": 4,
   "id": "fe898acd",
   "metadata": {},
   "outputs": [],
   "source": [
    "adata = sc.read_h5ad(\"../dplfc_data/adata_visium.h5ad\")"
   ]
  },
  {
   "cell_type": "code",
   "execution_count": 5,
   "id": "4bb6e7ca",
   "metadata": {},
   "outputs": [],
   "source": [
    "import torch\n",
    "\n",
    "adata_list = []\n",
    "for idx in list(adata.obs['sample_id'].unique()):\n",
    "    adata_s = adata[adata.obs['sample_id'] == str(idx)]\n",
    "    emb_data = torch.load(f\"../UNI/visium_{idx}_allspot_uni_200.pkl\")\n",
    "    emb_data = np.array(emb_data)\n",
    "    adata_s.obsm['X_emb'] = emb_data\n",
    "    adata_list.append(adata_s)\n",
    "\n",
    "adata_gpfm = sc.concat(adata_list)"
   ]
  },
  {
   "cell_type": "code",
   "execution_count": null,
   "id": "26f0b9cb",
   "metadata": {},
   "outputs": [],
   "source": [
    "result_list = []\n",
    "for i in list(adata.obs['sample_id'].unique()):\n",
    "    adata_train = adata_gpfm[adata_gpfm.obs['sample_id'] != i]\n",
    "    adata_test = adata_gpfm[adata_gpfm.obs['sample_id'] == i]\n",
    "    adata_train = adata_train[adata_train.obs['cluster'] != 'nan']\n",
    "    adata_test = adata_test[adata_test.obs['cluster'] != 'nan']\n",
    "    \n",
    "    \n",
    "    adata_train.X = adata_train.layers['logcounts']\n",
    "    sc.pp.highly_variable_genes(adata_train,batch_key='sample_id')\n",
    "    adata_train = adata_train[:,adata_train.var['highly_variable']]\n",
    "    \n",
    "    adata_test.X = adata_test.layers['logcounts']\n",
    "    adata_test = adata_test[:,adata_train.var_names]\n",
    "\n",
    "    adata_train.obsm['X_emb_comb'] = np.concatenate((adata_train.X.toarray(), adata_train.obsm['X_emb']), axis=1)\n",
    "    adata_test.obsm['X_emb_comb'] =  np.concatenate((adata_test.X.toarray(), adata_test.obsm['X_emb']), axis=1)\n",
    "    \n",
    "    model = sklearn.linear_model.LogisticRegression(n_jobs=-1)\n",
    "    model.fit(adata_train.obsm['X_emb_comb'], adata_train.obs['cluster'].values)\n",
    "    pred = model.predict(adata_test.obsm['X_emb_comb'])\n",
    "    true_label = adata_test.obs['cluster'].values\n",
    "    dict_out = sklearn.metrics.classification_report(true_label,pred,digits=4, output_dict=True)\n",
    "    single_out = [dict_out['accuracy'], dict_out['weighted avg']['precision'] , dict_out['weighted avg']['recall'] , dict_out['weighted avg']['f1-score']]\n",
    "    result_list.append(single_out)"
   ]
  },
  {
   "cell_type": "code",
   "execution_count": null,
   "id": "9b8e0fb1",
   "metadata": {
    "scrolled": true
   },
   "outputs": [],
   "source": [
    "for i in result_list:\n",
    "    print(i[0], ' ', i[1], ' ', i[2], ' ', i[3])"
   ]
  },
  {
   "cell_type": "code",
   "execution_count": null,
   "id": "7636d865",
   "metadata": {},
   "outputs": [],
   "source": []
  }
 ],
 "metadata": {
  "kernelspec": {
   "display_name": "Python 3 (ipykernel)",
   "language": "python",
   "name": "python3"
  },
  "language_info": {
   "codemirror_mode": {
    "name": "ipython",
    "version": 3
   },
   "file_extension": ".py",
   "mimetype": "text/x-python",
   "name": "python",
   "nbconvert_exporter": "python",
   "pygments_lexer": "ipython3",
   "version": "3.11.0"
  }
 },
 "nbformat": 4,
 "nbformat_minor": 5
}
