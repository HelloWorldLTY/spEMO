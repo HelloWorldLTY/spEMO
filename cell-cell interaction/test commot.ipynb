{
 "cells": [
  {
   "cell_type": "code",
   "execution_count": 1,
   "id": "86895e36-0b18-4a86-9325-9efe21195bab",
   "metadata": {},
   "outputs": [],
   "source": [
    "import scanpy as sc\n",
    "import commot as ct\n",
    "import scanpy as sc\n",
    "import pandas as pd\n",
    "import numpy as np"
   ]
  },
  {
   "cell_type": "code",
   "execution_count": 2,
   "id": "cb688742-60e9-401e-9cc6-cee2ff3c353d",
   "metadata": {},
   "outputs": [],
   "source": [
    "adata = sc.read_h5ad(\"your_data.h5ad\") # should be predicted from one WSI."
   ]
  },
  {
   "cell_type": "code",
   "execution_count": 3,
   "id": "349e0c01-5a34-4579-87fd-d2696ad28889",
   "metadata": {},
   "outputs": [],
   "source": [
    "adata.var_names_make_unique()"
   ]
  },
  {
   "cell_type": "code",
   "execution_count": 6,
   "id": "e17c3de8-313c-43be-8089-ab34e1c7dd20",
   "metadata": {},
   "outputs": [],
   "source": [
    "adata.obsm['spatial'] = adata.obsm['X_spatial']"
   ]
  },
  {
   "cell_type": "code",
   "execution_count": 8,
   "id": "7fdba57f-fb32-462d-b288-e82495972efd",
   "metadata": {},
   "outputs": [],
   "source": [
    "df_ligrec=ct.pp.ligand_receptor_database(database='CellPhoneDB', species='human')"
   ]
  },
  {
   "cell_type": "code",
   "execution_count": 10,
   "id": "90e6afa1-12d7-4ccb-8470-e4b0ed53a6d5",
   "metadata": {},
   "outputs": [],
   "source": [
    "ct.tl.spatial_communication(adata,\n",
    "    database_name='user_database', df_ligrec=df_ligrec, dis_thr=200, heteromeric=True)"
   ]
  },
  {
   "cell_type": "code",
   "execution_count": null,
   "id": "786a02f3-6c5d-433c-9ebd-4f46c7e30003",
   "metadata": {},
   "outputs": [],
   "source": []
  }
 ],
 "metadata": {
  "kernelspec": {
   "display_name": "Python 3 (ipykernel)",
   "language": "python",
   "name": "python3"
  },
  "language_info": {
   "codemirror_mode": {
    "name": "ipython",
    "version": 3
   },
   "file_extension": ".py",
   "mimetype": "text/x-python",
   "name": "python",
   "nbconvert_exporter": "python",
   "pygments_lexer": "ipython3",
   "version": "3.8.18"
  },
  "widgets": {
   "application/vnd.jupyter.widget-state+json": {
    "state": {},
    "version_major": 2,
    "version_minor": 0
   }
  }
 },
 "nbformat": 4,
 "nbformat_minor": 5
}
